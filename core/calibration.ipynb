{
  "cells": [
    {
      "cell_type": "markdown",
      "metadata": {
        "id": "0GJZtKt8sW96"
      },
      "source": [
        "# Utils"
      ]
    },
    {
      "cell_type": "code",
      "execution_count": 51,
      "metadata": {
        "id": "nXJS4goC9LIQ"
      },
      "outputs": [],
      "source": [
        "import numpy as np"
      ]
    },
    {
      "cell_type": "code",
      "execution_count": 52,
      "metadata": {
        "id": "17MAi4qoLz6a"
      },
      "outputs": [],
      "source": [
        "from typing import Literal, Iterable"
      ]
    },
    {
      "cell_type": "code",
      "execution_count": 53,
      "metadata": {
        "id": "MhX8RZ5sJYTE"
      },
      "outputs": [],
      "source": [
        "def _split_list(data: Iterable,\n",
        "                part_size: int,\n",
        "                handle_leftover: Literal[\"cut\", \"join\", \"add\"] = \"cut\"\n",
        "                ) -> list[list]:\n",
        "    \"\"\"Split list into sublists of equal size.\n",
        "\n",
        "        If length of initial list isn't divisible by given\n",
        "        sublist size, the remaining part won't be included\n",
        "        in result by default. However, changing\n",
        "        'handle_leftover' parameter will modify this.\n",
        "        Parameters\n",
        "        ----------\n",
        "        data : Iterable\n",
        "        part_size : int\n",
        "            Size of sublists data will be splitted in\n",
        "        handle_leftover: Literal[\"cut\", \"join\", \"add\"]\n",
        "            Set remaining part handling mode. (default is \"cut\")\n",
        "            - 'cut': don't include remaining part\n",
        "            - 'join': join remaining part to the last full sublist\n",
        "            - 'add': add the remaining part to the result as last sublist\n",
        "    \"\"\"\n",
        "    sublists: list[int] = []\n",
        "    sublist = [data[0]]\n",
        "    for i in range(1, len(data)):\n",
        "        if i % part_size == 0:\n",
        "            sublists.append(sublist)\n",
        "            sublist = []\n",
        "        else:\n",
        "            sublist.append(data[i])\n",
        "\n",
        "    remaining_part = data[-(len(data) % part_size):]\n",
        "    print(len(remaining_part))\n",
        "    if remaining_part:\n",
        "        if handle_leftover == \"join\":\n",
        "            sublists[-1].extend(remaining_part)\n",
        "        elif handle_leftover == \"add\":\n",
        "            sublists.append(remaining_part)\n",
        "    return sublists"
      ]
    },
    {
      "cell_type": "code",
      "execution_count": 54,
      "metadata": {
        "id": "G7DV5WvcUORC"
      },
      "outputs": [],
      "source": [
        "def filter_values(lst, exclude = (), less_than: float = np.inf, greater_than: float = -np.inf):\n",
        "  \"\"\"Drop values in numeric iterable that don't meet the condition\n",
        "\n",
        "     Parameters\n",
        "     ----------\n",
        "     list: list\n",
        "     exclude: Iterable, optional\n",
        "        Exact values that will be dropped (default is ())\n",
        "      less_than: float, optional\n",
        "        Keep values below this value (default is np.inf)\n",
        "      greater_than: float, optional\n",
        "        Keep values above this value (default is -np.inf)\"\"\"\n",
        "\n",
        "  res = []\n",
        "  for i in lst:\n",
        "    if i not in exclude and i < less_than and i > greater_than:\n",
        "      res.append(i)\n",
        "  return res"
      ]
    },
    {
      "cell_type": "markdown",
      "metadata": {
        "id": "-0Qp0aDP0e6R"
      },
      "source": [
        "# Translating\n"
      ]
    },
    {
      "cell_type": "code",
      "execution_count": 55,
      "metadata": {
        "id": "79cD-GNts0_a"
      },
      "outputs": [],
      "source": [
        "LANGUAGE = 'ru'#en/ru"
      ]
    },
    {
      "cell_type": "code",
      "execution_count": 56,
      "metadata": {
        "id": "CCuci3Rv48AV"
      },
      "outputs": [],
      "source": [
        "to_russian = {'*-': 'А',\n",
        " '-***': 'Б',\n",
        " '*--': 'В',\n",
        " '--*': 'Г',\n",
        " '-**': 'Д',\n",
        " '*': 'Е',\n",
        " '***-': 'Ж',\n",
        " '--**': 'З',\n",
        " '**': 'И',\n",
        " '*---': 'Й',\n",
        " '-*-': 'К',\n",
        " '*-**': 'Л',\n",
        " '--': 'М',\n",
        " '-*': 'Н',\n",
        " '---': 'О',\n",
        " '*--*': 'П',\n",
        " '*-*': 'Р',\n",
        " '***': 'С',\n",
        " '-': 'Т',\n",
        " '**-': 'У',\n",
        " '**-*': 'Ф',\n",
        " '****': 'Х',\n",
        " '-*-*': 'Ц',\n",
        " '---*': 'Ч',\n",
        " '----': 'Ш',\n",
        " '--*-': 'Щ',\n",
        " '--*--': 'Ъ',\n",
        " '-*--': 'Ы',\n",
        " '-**-': 'Ь',\n",
        " '**-**': 'Э',\n",
        " '**--': 'Ю',\n",
        " '*-*-': 'Я'}"
      ]
    },
    {
      "cell_type": "code",
      "execution_count": 57,
      "metadata": {
        "id": "vO03V6HuyopQ"
      },
      "outputs": [],
      "source": [
        "to_english = {'*-': 'A',\n",
        " '-***': 'B',\n",
        " '-*-*': 'C',\n",
        " '-**': 'D',\n",
        " '*': 'E',\n",
        " '**-*': 'F',\n",
        " '--*': 'G',\n",
        "'****': 'H',\n",
        " '**': 'I',\n",
        " '*---': 'J',\n",
        " '-*-': 'K',\n",
        " '*-**': 'L',\n",
        " '--': 'M',\n",
        " '-*': 'N',\n",
        " '---': 'O',\n",
        " '*--*': 'P',\n",
        " '--*-': 'Q',\n",
        " '*-*': 'R',\n",
        " '***': 'S',\n",
        " '-': 'T',\n",
        " '**-': 'U',\n",
        " '***-': 'V',\n",
        " '*--': 'W',\n",
        " '-**-': 'X',\n",
        " '-*--': 'Y',\n",
        " '--**': 'Z'}"
      ]
    },
    {
      "cell_type": "code",
      "execution_count": 58,
      "metadata": {
        "id": "hVTX18kL4jVp"
      },
      "outputs": [],
      "source": [
        "if LANGUAGE == 'en':\n",
        "  from_morse = to_english\n",
        "elif LANGUAGE == 'ru':\n",
        "  from_morse = to_russian"
      ]
    },
    {
      "cell_type": "code",
      "execution_count": 59,
      "metadata": {
        "id": "Vhhfgq-lE_cc"
      },
      "outputs": [],
      "source": [
        "def translate_from_morse(code: str,\n",
        "                         handle_unknown: Literal[\"warn\", \"error\"] = \"warn\",\n",
        "                         word_separator: str = ' '*2,\n",
        "                         letter_separator: str = ' '):\n",
        "  morse_words: list[str] = code.split(word_separator)\n",
        "  morse_words: list[list[str]] = [word.split(letter_separator)  for word in morse_words]\n",
        "  result = ''\n",
        "  for morse_word in morse_words:\n",
        "    for morse_letter in morse_word:\n",
        "      if morse_letter in from_morse:\n",
        "        result += from_morse[morse_letter]\n",
        "      else:\n",
        "        if handle_unknown == \"warn\":\n",
        "          result += '?'\n",
        "        else:\n",
        "          raise ValueError(f\"Morse letter not recognised: {morse_letter}\")\n",
        "    result += ' '\n",
        "  return result.capitalize()"
      ]
    },
    {
      "cell_type": "markdown",
      "metadata": {
        "id": "HCEISN450mI4"
      },
      "source": [
        "# EMG analysis"
      ]
    },
    {
      "cell_type": "markdown",
      "metadata": {
        "id": "b3w7nBJ0Zvik"
      },
      "source": [
        "## Downloading data"
      ]
    },
    {
      "cell_type": "code",
      "execution_count": 60,
      "metadata": {
        "colab": {
          "base_uri": "https://localhost:8080/"
        },
        "id": "SNyobcxHEMhI",
        "outputId": "0babed65-f039-4ba6-acd2-d440bdba1e90"
      },
      "outputs": [
        {
          "name": "stdout",
          "output_type": "stream",
          "text": [
            "2813.21s - pydevd: Sending message related to process being replaced timed-out after 5 seconds\n",
            "Requirement already satisfied: pyedflib in /opt/homebrew/lib/python3.11/site-packages (0.1.37)\n",
            "Requirement already satisfied: numpy>=1.9.1 in /opt/homebrew/lib/python3.11/site-packages (from pyedflib) (1.26.4)\n",
            "Note: you may need to restart the kernel to use updated packages.\n"
          ]
        }
      ],
      "source": [
        "%pip install pyedflib"
      ]
    },
    {
      "cell_type": "code",
      "execution_count": 61,
      "metadata": {
        "id": "TWOl7zn41AD6"
      },
      "outputs": [],
      "source": [
        "import pyedflib\n",
        "from scipy.signal import find_peaks\n",
        "import numpy as np\n",
        "import matplotlib.pyplot as plt"
      ]
    },
    {
      "cell_type": "code",
      "execution_count": 62,
      "metadata": {
        "id": "Tu5bKdkp7spx"
      },
      "outputs": [
        {
          "ename": "FileNotFoundError",
          "evalue": "core/test_data/мама мыла раму/260424200650165.edf: can not open file, no such file or directory",
          "output_type": "error",
          "traceback": [
            "\u001b[0;31m---------------------------------------------------------------------------\u001b[0m",
            "\u001b[0;31mFileNotFoundError\u001b[0m                         Traceback (most recent call last)",
            "Cell \u001b[0;32mIn[62], line 2\u001b[0m\n\u001b[1;32m      1\u001b[0m file_name\u001b[38;5;241m=\u001b[39m\u001b[38;5;124m'\u001b[39m\u001b[38;5;124mcore/test_data/мама мыла раму/260424200650165.edf\u001b[39m\u001b[38;5;124m'\u001b[39m\n\u001b[0;32m----> 2\u001b[0m f \u001b[38;5;241m=\u001b[39m \u001b[43mpyedflib\u001b[49m\u001b[38;5;241;43m.\u001b[39;49m\u001b[43mEdfReader\u001b[49m\u001b[43m(\u001b[49m\u001b[43mfile_name\u001b[49m\u001b[43m)\u001b[49m\n",
            "File \u001b[0;32mpyedflib/_extensions/_pyedflib.pyx:165\u001b[0m, in \u001b[0;36mpyedflib._extensions._pyedflib.CyEdfReader.__init__\u001b[0;34m()\u001b[0m\n",
            "File \u001b[0;32mpyedflib/_extensions/_pyedflib.pyx:145\u001b[0m, in \u001b[0;36mpyedflib._extensions._pyedflib.CyEdfReader.__init__\u001b[0;34m()\u001b[0m\n",
            "File \u001b[0;32mpyedflib/_extensions/_pyedflib.pyx:208\u001b[0m, in \u001b[0;36mpyedflib._extensions._pyedflib.CyEdfReader.open\u001b[0;34m()\u001b[0m\n",
            "File \u001b[0;32mpyedflib/_extensions/_pyedflib.pyx:179\u001b[0m, in \u001b[0;36mpyedflib._extensions._pyedflib.CyEdfReader.check_open_ok\u001b[0;34m()\u001b[0m\n",
            "\u001b[0;31mFileNotFoundError\u001b[0m: core/test_data/мама мыла раму/260424200650165.edf: can not open file, no such file or directory"
          ]
        }
      ],
      "source": [
        "file_name='core/test_data/мама мыла раму/260424200650165.edf'\n",
        "f = pyedflib.EdfReader(file_name)"
      ]
    },
    {
      "cell_type": "code",
      "execution_count": null,
      "metadata": {
        "id": "WWJL6-EJ8VGb"
      },
      "outputs": [
        {
          "ename": "NameError",
          "evalue": "name 'f' is not defined",
          "output_type": "error",
          "traceback": [
            "\u001b[0;31m---------------------------------------------------------------------------\u001b[0m",
            "\u001b[0;31mNameError\u001b[0m                                 Traceback (most recent call last)",
            "Cell \u001b[0;32mIn[49], line 1\u001b[0m\n\u001b[0;32m----> 1\u001b[0m data \u001b[38;5;241m=\u001b[39m \u001b[43mf\u001b[49m\u001b[38;5;241m.\u001b[39mreadSignal(\u001b[38;5;241m0\u001b[39m)\n\u001b[1;32m      2\u001b[0m data_origin \u001b[38;5;241m=\u001b[39m data\u001b[38;5;241m.\u001b[39mcopy()\n",
            "\u001b[0;31mNameError\u001b[0m: name 'f' is not defined"
          ]
        }
      ],
      "source": [
        "data = f.readSignal(0)\n",
        "data_origin = data.copy()"
      ]
    },
    {
      "cell_type": "code",
      "execution_count": null,
      "metadata": {
        "colab": {
          "base_uri": "https://localhost:8080/",
          "height": 448
        },
        "id": "sz5o4p4y6p9L",
        "outputId": "5587939b-2514-4311-dbe9-bb88c81eb8b8"
      },
      "outputs": [
        {
          "data": {
            "text/plain": [
              "[<matplotlib.lines.Line2D at 0x7a736f6815a0>]"
            ]
          },
          "execution_count": 14,
          "metadata": {},
          "output_type": "execute_result"
        },
        {
          "data": {
            "image/png": "[encoded data removed]",
            "text/plain": [
              "<Figure size 640x480 with 1 Axes>"
            ]
          },
          "metadata": {},
          "output_type": "display_data"
        }
      ],
      "source": [
        "plt.plot(range(len(data)), data)"
      ]
    },
    {
      "cell_type": "code",
      "execution_count": null,
      "metadata": {
        "id": "_rDEHHxy9x5T"
      },
      "outputs": [],
      "source": [
        "data = [i if i > 0 else 0 for i in data]"
      ]
    },
    {
      "cell_type": "code",
      "execution_count": null,
      "metadata": {
        "id": "j-T0g6QGy7Wl"
      },
      "outputs": [],
      "source": [
        "data_origin = data.copy()"
      ]
    },
    {
      "cell_type": "code",
      "execution_count": null,
      "metadata": {
        "id": "C7m5Kq9GjVFy"
      },
      "outputs": [],
      "source": [
        "NOISE_BELOW = 10"
      ]
    },
    {
      "cell_type": "code",
      "execution_count": null,
      "metadata": {
        "id": "rCjgjf_CaGT2"
      },
      "outputs": [],
      "source": [
        "symbol_to_signal_type = {' ': 0, '*': 1, '-': 2}#none, low, high"
      ]
    },
    {
      "cell_type": "markdown",
      "metadata": {
        "id": "1Fg1EytbaoTg"
      },
      "source": [
        "## Approximation"
      ]
    },
    {
      "cell_type": "code",
      "execution_count": null,
      "metadata": {
        "id": "9d8fdmCKDP3L"
      },
      "outputs": [],
      "source": [
        "def round_by(n,by):\n",
        "  return n // by * by"
      ]
    },
    {
      "cell_type": "code",
      "execution_count": null,
      "metadata": {
        "id": "sXGPD7HfVgRs"
      },
      "outputs": [],
      "source": [
        "APPROXIMATION = 30\n",
        "approximated = [round_by(i,APPROXIMATION) for i in data]\n",
        "values, distribution = np.unique(approximated, return_counts = True)\n",
        "value_distribution = dict(zip(values, distribution))"
      ]
    },
    {
      "cell_type": "markdown",
      "metadata": {
        "id": "Yym33FuAZ4fD"
      },
      "source": [
        "## Getting peaks"
      ]
    },
    {
      "cell_type": "code",
      "execution_count": null,
      "metadata": {
        "colab": {
          "base_uri": "https://localhost:8080/"
        },
        "id": "1FFc413s1hso",
        "outputId": "8b5e6408-281a-4f80-e770-89a687a9a12e"
      },
      "outputs": [
        {
          "data": {
            "image/png": "[encoded data removed]",
            "text/plain": [
              "<Figure size 640x480 with 1 Axes>"
            ]
          },
          "metadata": {},
          "output_type": "display_data"
        }
      ],
      "source": [
        "peaks, _ = find_peaks(data,threshold = 2,height=0)\n",
        "plt.plot(peaks, [data[peak] for peak in peaks],\"x\",c='r')\n",
        "plt.plot([i for i in range(len(data))], data,c='b')\n",
        "plt.show()"
      ]
    },
    {
      "cell_type": "markdown",
      "metadata": {
        "id": "b5yoVR8wegvD"
      },
      "source": [
        "# Calibration"
      ]
    },
    {
      "cell_type": "code",
      "execution_count": null,
      "metadata": {
        "id": "NssyVAslhqxU"
      },
      "outputs": [],
      "source": [
        "data_origin = data.copy()"
      ]
    },
    {
      "cell_type": "code",
      "execution_count": null,
      "metadata": {
        "colab": {
          "base_uri": "https://localhost:8080/",
          "height": 35
        },
        "id": "HztwgTRdei-j",
        "outputId": "ceb6fd9c-0f20-4a83-d49c-11c297b57c39"
      },
      "outputs": [
        {
          "data": {
            "application/vnd.google.colaboratory.intrinsic+json": {
              "type": "string"
            },
            "text/plain": [
              "'Мама мыла раму '"
            ]
          },
          "execution_count": 24,
          "metadata": {},
          "output_type": "execute_result"
        }
      ],
      "source": [
        "file_name='/content/drive/MyDrive/ADT/signal analysis/260424200650165.edf'\n",
        "#f = pyedflib.EdfReader(file_name)\n",
        "data = f.readSignal(0)\n",
        "data = [i if i > 0 else 0 for i in data]\n",
        "data = data[1400:]# beginning is just nothing\n",
        "CALIBRATION_CODE = '-- .- -- .-  -- -.-- .-.. .-  .-. .- -- ..-'.replace('.', '*')\n",
        "CALIBRATION_TRANSLATION = translate_from_morse(CALIBRATION_CODE)\n",
        "CALIBRATION_TRANSLATION"
      ]
    },
    {
      "cell_type": "markdown",
      "metadata": {
        "id": "JXzKGqREj3Wh"
      },
      "source": [
        "## Filtering data\n"
      ]
    },
    {
      "cell_type": "code",
      "execution_count": null,
      "metadata": {
        "id": "CHLhm5kdoBpa"
      },
      "outputs": [],
      "source": [
        "def high_low_batch_filter(data, threshold, batch_size):\n",
        "  \"\"\"Divide data in batches, and for each part count values under and over threshold.\n",
        "     Values with lower counts will be replaced by mean of predominant values\n",
        "  \"\"\"\n",
        "\n",
        "  filtered_data = []\n",
        "  for batch in _split_list(data, batch_size, handle_leftover = 'add'):\n",
        "      below = filter_values(batch, less_than = threshold)\n",
        "      over = filter_values(batch, greater_than = threshold)\n",
        "\n",
        "      predominant = below if len(below) > len(over) else over\n",
        "      predominant_mean = np.mean(predominant)\n",
        "\n",
        "      filtered_batch = [i if i in predominant else predominant_mean for i in batch]#TODO: compare by threshold to save time\n",
        "      filtered_data.extend(filtered_batch)\n",
        "\n",
        "  return filtered_data"
      ]
    },
    {
      "cell_type": "code",
      "execution_count": null,
      "metadata": {
        "colab": {
          "base_uri": "https://localhost:8080/"
        },
        "id": "-V9Ngf6JF4PR",
        "outputId": "cd73b59b-4664-4315-95d9-a0c46818910f"
      },
      "outputs": [
        {
          "data": {
            "text/plain": [
              "(1307, 261)"
            ]
          },
          "execution_count": 26,
          "metadata": {},
          "output_type": "execute_result"
        }
      ],
      "source": [
        "EPOCH_TIME = len(data) // len(CALIBRATION_CODE)\n",
        "TIMING_ERROR = EPOCH_TIME//5\n",
        "EPOCH_TIME,TIMING_ERROR"
      ]
    },
    {
      "cell_type": "code",
      "execution_count": null,
      "metadata": {
        "colab": {
          "base_uri": "https://localhost:8080/",
          "height": 729
        },
        "id": "fIVjdZj29dEt",
        "outputId": "bb8eec10-342f-4df8-ffa1-8897cb7f09bc"
      },
      "outputs": [
        {
          "ename": "NameError",
          "evalue": "name 'data' is not defined",
          "output_type": "error",
          "traceback": [
            "\u001b[0;31m---------------------------------------------------------------------------\u001b[0m",
            "\u001b[0;31mNameError\u001b[0m                                 Traceback (most recent call last)",
            "Cell \u001b[0;32mIn[50], line 1\u001b[0m\n\u001b[0;32m----> 1\u001b[0m plt\u001b[38;5;241m.\u001b[39mplot(\u001b[38;5;28mrange\u001b[39m(\u001b[38;5;28mlen\u001b[39m(\u001b[43mdata\u001b[49m)), high_low_batch_filter(data, NOISE_BELOW, EPOCH_TIME))\n",
            "\u001b[0;31mNameError\u001b[0m: name 'data' is not defined"
          ]
        }
      ],
      "source": [
        "plt.plot(range(len(data)), high_low_batch_filter(data, NOISE_BELOW, EPOCH_TIME))"
      ]
    },
    {
      "cell_type": "markdown",
      "metadata": {
        "id": "uYcqO3QZgl_w"
      },
      "source": [
        "## Getting exact start time"
      ]
    },
    {
      "cell_type": "code",
      "execution_count": null,
      "metadata": {
        "colab": {
          "base_uri": "https://localhost:8080/"
        },
        "id": "W0ZGfRYxgo4Y",
        "outputId": "a1e5e582-48c2-425c-9da5-8ec68108d1e6"
      },
      "outputs": [
        {
          "data": {
            "text/plain": [
              "(141, 72.78886650796558)"
            ]
          },
          "execution_count": 50,
          "metadata": {},
          "output_type": "execute_result"
        }
      ],
      "source": [
        "USER_ACTION__MAX_OFFSET = 400# time for user to make the first action\n",
        "first_action_time = np.argmax(data[:USER_ACTION__MAX_OFFSET])\n",
        "first_action_value = np.max(data[:USER_ACTION__MAX_OFFSET])\n",
        "\n",
        "data = data[first_action_time:]\n",
        "first_action_time, first_action_value"
      ]
    },
    {
      "cell_type": "code",
      "execution_count": null,
      "metadata": {
        "id": "9g0N8ofBHCJj"
      },
      "outputs": [],
      "source": [
        "epochs = [data[max(i - TIMING_ERROR,0): min(len(data), i + EPOCH_TIME + TIMING_ERROR)]# min and max not to exсeed list boundaries\n",
        "          for i in range(0,len(data), EPOCH_TIME)]#extend epochs at both ends to accept data that user entered at wrong timing"
      ]
    },
    {
      "cell_type": "markdown",
      "metadata": {
        "id": "DggvncrBmUmG"
      },
      "source": [
        "## Classifying"
      ]
    },
    {
      "cell_type": "code",
      "execution_count": null,
      "metadata": {
        "id": "abRz2NolZckG"
      },
      "outputs": [],
      "source": [
        "if len(epoch_values) > len(CALIBRATION_CODE):\n",
        "  epoch_values.pop(-1)#TODO: do smth if there are more epochs than symbols\n",
        "epoch_to_signal_type\n",
        "epoch_to_signal_type = dict(zip(epoch_values,\n",
        "                        [symbol_to_signal_type[i] for i in CALIBRATION_CODE]))"
      ]
    },
    {
      "cell_type": "markdown",
      "metadata": {
        "id": "3n2YH45GkjSP"
      },
      "source": [
        "# Classifying epochs"
      ]
    },
    {
      "cell_type": "code",
      "execution_count": null,
      "metadata": {
        "id": "AAh5s8TeO0la"
      },
      "outputs": [],
      "source": [
        "'''Get morse code from data based on threshold to say whether it's a dot(low threshold), or dash(high)\n",
        "      --------\n",
        "      param high_threshold: a value, epoch will be considered as dash\n",
        "      param low_threshold: a value, based on which an epoch will be considered as dash\n",
        "      potom napishy koroche'''"
      ]
    },
    {
      "cell_type": "code",
      "execution_count": null,
      "metadata": {
        "id": "BLH3vo98O0lb"
      },
      "outputs": [],
      "source": [
        "def data_to_morse(data: list[float],\n",
        "                  high_threshold: float,\n",
        "                  low_threshold: float,\n",
        "                  epoch_size: int):\n",
        "  res: str = \"\"\n",
        "  epochs = _split_list(data, epoch_size)\n",
        "  for epoch in epochs:\n",
        "    median = np.median(epoch)\n",
        "    if median > high_threshold:\n",
        "      res += '-'\n",
        "    elif median > low_threshold:\n",
        "      res += '*'\n",
        "    else:\n",
        "      res += ' '\n",
        "  return res"
      ]
    },
    {
      "cell_type": "code",
      "execution_count": null,
      "metadata": {
        "id": "4hmUODp8O0lc"
      },
      "outputs": [],
      "source": [
        "EPOCH_SIZE = 50\n",
        "morse_code = data_to_morse(data,\n",
        "              HIGH_THRESHOLD,\n",
        "              LOW_THRESHOLD,\n",
        "              EPOCH_SIZE\n",
        "              )\n",
        "\n",
        "translate_from_morse(morse_code, handle_unknown = \"warn\")"
      ]
    }
  ],
  "metadata": {
    "colab": {
      "collapsed_sections": [
        "0GJZtKt8sW96",
        "-0Qp0aDP0e6R",
        "1Fg1EytbaoTg",
        "Yym33FuAZ4fD"
      ],
      "provenance": []
    },
    "kernelspec": {
      "display_name": "Python 3",
      "name": "python3"
    },
    "language_info": {
      "codemirror_mode": {
        "name": "ipython",
        "version": 3
      },
      "file_extension": ".py",
      "mimetype": "text/x-python",
      "name": "python",
      "nbconvert_exporter": "python",
      "pygments_lexer": "ipython3",
      "version": "3.11.8"
    }
  },
  "nbformat": 4,
  "nbformat_minor": 0
}
