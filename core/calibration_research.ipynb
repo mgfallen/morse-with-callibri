{
  "cells": [
    {
      "cell_type": "markdown",
      "metadata": {
        "id": "0GJZtKt8sW96"
      },
      "source": [
        "# Utils"
      ]
    },
    {
      "cell_type": "code",
      "execution_count": 12,
      "metadata": {
        "id": "nXJS4goC9LIQ"
      },
      "outputs": [],
      "source": [
        "import numpy as np"
      ]
    },
    {
      "cell_type": "code",
      "execution_count": 13,
      "metadata": {
        "id": "17MAi4qoLz6a"
      },
      "outputs": [],
      "source": [
        "from typing import Literal, Iterable"
      ]
    },
    {
      "cell_type": "code",
      "execution_count": 14,
      "metadata": {
        "id": "MhX8RZ5sJYTE"
      },
      "outputs": [],
      "source": [
        "def _split_list(data: Iterable,\n",
        "                part_size: int,\n",
        "                handle_leftover: Literal[\"cut\", \"join\", \"add\"] = \"cut\"\n",
        "                ) -> list[list]:\n",
        "    \"\"\"Split list into sublists of equal size.\n",
        "\n",
        "        If length of initial list isn't divisible by given\n",
        "        sublist size, the remaining part won't be included\n",
        "        in result by default. However, changing\n",
        "        'handle_leftover' parameter will modify this.\n",
        "        Parameters\n",
        "        ----------\n",
        "        data : Iterable\n",
        "        part_size : int\n",
        "            Size of sublists data will be splitted in\n",
        "        handle_leftover: Literal[\"cut\", \"join\", \"add\"]\n",
        "            Set remaining part handling mode. (default is \"cut\")\n",
        "            - 'cut': don't include remaining part\n",
        "            - 'join': join remaining part to the last full sublist\n",
        "            - 'add': add the remaining part to the result as last sublist\n",
        "    \"\"\"\n",
        "    sublists = list(zip(*(iter(data),) * part_size))\n",
        "    \n",
        "    if remaining_part_size := -(len(data) % part_size):\n",
        "        remaining_part = data[remaining_part_size:]\n",
        "        \n",
        "        if handle_leftover == \"join\":\n",
        "            sublists[-1] += (remaining_part)\n",
        "        elif handle_leftover == \"add\":\n",
        "            sublists.append(remaining_part)\n",
        "    return sublists"
      ]
    },
    {
      "cell_type": "code",
      "execution_count": 15,
      "metadata": {
        "id": "G7DV5WvcUORC"
      },
      "outputs": [],
      "source": [
        "def filter_values(lst, exclude = (), less_than: float = np.inf, greater_than: float = -np.inf):\n",
        "  \"\"\"Drop values in numeric iterable that don't meet the condition\n",
        "\n",
        "     Parameters\n",
        "     ----------\n",
        "     list: list\n",
        "     exclude: Iterable, optional\n",
        "        Exact values that will be dropped (default is ())\n",
        "      less_than: float, optional\n",
        "        Keep values below this value (default is np.inf)\n",
        "      greater_than: float, optional\n",
        "        Keep values above this value (default is -np.inf)\"\"\"\n",
        "\n",
        "  res = []\n",
        "  for i in lst:\n",
        "    if i not in exclude and i < less_than and i > greater_than:\n",
        "      res.append(i)\n",
        "  return res"
      ]
    },
    {
      "cell_type": "markdown",
      "metadata": {
        "id": "-0Qp0aDP0e6R"
      },
      "source": [
        "# Translating\n"
      ]
    },
    {
      "cell_type": "code",
      "execution_count": 16,
      "metadata": {
        "id": "79cD-GNts0_a"
      },
      "outputs": [],
      "source": [
        "LANGUAGE = 'ru'#en/ru"
      ]
    },
    {
      "cell_type": "code",
      "execution_count": 17,
      "metadata": {
        "id": "CCuci3Rv48AV"
      },
      "outputs": [],
      "source": [
        "to_russian = {'*-': 'А',\n",
        " '-***': 'Б',\n",
        " '*--': 'В',\n",
        " '--*': 'Г',\n",
        " '-**': 'Д',\n",
        " '*': 'Е',\n",
        " '***-': 'Ж',\n",
        " '--**': 'З',\n",
        " '**': 'И',\n",
        " '*---': 'Й',\n",
        " '-*-': 'К',\n",
        " '*-**': 'Л',\n",
        " '--': 'М',\n",
        " '-*': 'Н',\n",
        " '---': 'О',\n",
        " '*--*': 'П',\n",
        " '*-*': 'Р',\n",
        " '***': 'С',\n",
        " '-': 'Т',\n",
        " '**-': 'У',\n",
        " '**-*': 'Ф',\n",
        " '****': 'Х',\n",
        " '-*-*': 'Ц',\n",
        " '---*': 'Ч',\n",
        " '----': 'Ш',\n",
        " '--*-': 'Щ',\n",
        " '--*--': 'Ъ',\n",
        " '-*--': 'Ы',\n",
        " '-**-': 'Ь',\n",
        " '**-**': 'Э',\n",
        " '**--': 'Ю',\n",
        " '*-*-': 'Я'}"
      ]
    },
    {
      "cell_type": "code",
      "execution_count": 18,
      "metadata": {
        "id": "vO03V6HuyopQ"
      },
      "outputs": [],
      "source": [
        "to_english = {'*-': 'A',\n",
        " '-***': 'B',\n",
        " '-*-*': 'C',\n",
        " '-**': 'D',\n",
        " '*': 'E',\n",
        " '**-*': 'F',\n",
        " '--*': 'G',\n",
        "'****': 'H',\n",
        " '**': 'I',\n",
        " '*---': 'J',\n",
        " '-*-': 'K',\n",
        " '*-**': 'L',\n",
        " '--': 'M',\n",
        " '-*': 'N',\n",
        " '---': 'O',\n",
        " '*--*': 'P',\n",
        " '--*-': 'Q',\n",
        " '*-*': 'R',\n",
        " '***': 'S',\n",
        " '-': 'T',\n",
        " '**-': 'U',\n",
        " '***-': 'V',\n",
        " '*--': 'W',\n",
        " '-**-': 'X',\n",
        " '-*--': 'Y',\n",
        " '--**': 'Z'}"
      ]
    },
    {
      "cell_type": "code",
      "execution_count": 19,
      "metadata": {
        "id": "hVTX18kL4jVp"
      },
      "outputs": [],
      "source": [
        "if LANGUAGE == 'en':\n",
        "  from_morse = to_english\n",
        "elif LANGUAGE == 'ru':\n",
        "  from_morse = to_russian"
      ]
    },
    {
      "cell_type": "code",
      "execution_count": 20,
      "metadata": {
        "id": "Vhhfgq-lE_cc"
      },
      "outputs": [],
      "source": [
        "def translate_from_morse(code: str,\n",
        "                         handle_unknown: Literal[\"warn\", \"error\"] = \"warn\",\n",
        "                         word_separator: str = ' '*2,\n",
        "                         letter_separator: str = ' '):\n",
        "  morse_words: list[str] = code.split(word_separator)\n",
        "  morse_words: list[list[str]] = [word.split(letter_separator)  for word in morse_words]\n",
        "  result = ''\n",
        "  for morse_word in morse_words:\n",
        "    for morse_letter in morse_word:\n",
        "      if morse_letter in from_morse:\n",
        "        result += from_morse[morse_letter]\n",
        "      else:\n",
        "        if handle_unknown == \"warn\":\n",
        "          result += '?'\n",
        "        else:\n",
        "          raise ValueError(f\"Morse letter not recognised: {morse_letter}\")\n",
        "    result += ' '\n",
        "  return result.capitalize()"
      ]
    },
    {
      "cell_type": "markdown",
      "metadata": {
        "id": "HCEISN450mI4"
      },
      "source": [
        "# EMG analysis"
      ]
    },
    {
      "cell_type": "markdown",
      "metadata": {
        "id": "b3w7nBJ0Zvik"
      },
      "source": [
        "## Downloading data"
      ]
    },
    {
      "cell_type": "code",
      "execution_count": 21,
      "metadata": {
        "colab": {
          "base_uri": "https://localhost:8080/"
        },
        "id": "SNyobcxHEMhI",
        "outputId": "0babed65-f039-4ba6-acd2-d440bdba1e90"
      },
      "outputs": [
        {
          "name": "stdout",
          "output_type": "stream",
          "text": [
            "Requirement already satisfied: pyedflib in /opt/homebrew/lib/python3.11/site-packages (0.1.37)\n",
            "Requirement already satisfied: numpy>=1.9.1 in /opt/homebrew/lib/python3.11/site-packages (from pyedflib) (1.26.4)\n",
            "Note: you may need to restart the kernel to use updated packages.\n"
          ]
        }
      ],
      "source": [
        "%pip install pyedflib"
      ]
    },
    {
      "cell_type": "code",
      "execution_count": 22,
      "metadata": {
        "id": "TWOl7zn41AD6"
      },
      "outputs": [],
      "source": [
        "import pyedflib\n",
        "from scipy.signal import find_peaks\n",
        "import numpy as np\n",
        "import matplotlib.pyplot as plt"
      ]
    },
    {
      "cell_type": "code",
      "execution_count": 23,
      "metadata": {
        "id": "Tu5bKdkp7spx"
      },
      "outputs": [],
      "source": [
        "file_name='test_data/мама мыла раму/260424200650165.edf'\n",
        "f = pyedflib.EdfReader(file_name)"
      ]
    },
    {
      "cell_type": "code",
      "execution_count": 24,
      "metadata": {
        "id": "WWJL6-EJ8VGb"
      },
      "outputs": [],
      "source": [
        "data = f.readSignal(0)\n",
        "data_origin = data.copy()"
      ]
    },
    {
      "cell_type": "code",
      "execution_count": 25,
      "metadata": {
        "colab": {
          "base_uri": "https://localhost:8080/",
          "height": 448
        },
        "id": "sz5o4p4y6p9L",
        "outputId": "5587939b-2514-4311-dbe9-bb88c81eb8b8"
      },
      "outputs": [
        {
          "data": {
            "text/plain": [
              "[<matplotlib.lines.Line2D at 0x137ebb2d0>]"
            ]
          },
          "execution_count": 25,
          "metadata": {},
          "output_type": "execute_result"
        },
        {
          "data": {
            "image/png": "[encoded data removed]",
            "text/plain": [
              "<Figure size 640x480 with 1 Axes>"
            ]
          },
          "metadata": {},
          "output_type": "display_data"
        }
      ],
      "source": [
        "plt.plot(range(len(data)), data)"
      ]
    },
    {
      "cell_type": "code",
      "execution_count": 26,
      "metadata": {
        "id": "_rDEHHxy9x5T"
      },
      "outputs": [],
      "source": [
        "data = [i if i > 0 else 0 for i in data]"
      ]
    },
    {
      "cell_type": "code",
      "execution_count": 27,
      "metadata": {
        "id": "j-T0g6QGy7Wl"
      },
      "outputs": [],
      "source": [
        "data_origin = data.copy()"
      ]
    },
    {
      "cell_type": "code",
      "execution_count": 28,
      "metadata": {
        "id": "C7m5Kq9GjVFy"
      },
      "outputs": [],
      "source": [
        "NOISE_BELOW = 10"
      ]
    },
    {
      "cell_type": "code",
      "execution_count": 29,
      "metadata": {
        "id": "rCjgjf_CaGT2"
      },
      "outputs": [],
      "source": [
        "symbol_to_signal_type = {' ': 0, '*': 1, '-': 2}#none, low, high"
      ]
    },
    {
      "cell_type": "markdown",
      "metadata": {
        "id": "1Fg1EytbaoTg"
      },
      "source": [
        "## Approximation"
      ]
    },
    {
      "cell_type": "code",
      "execution_count": 30,
      "metadata": {
        "id": "9d8fdmCKDP3L"
      },
      "outputs": [],
      "source": [
        "def round_by(n,by):\n",
        "  return n // by * by"
      ]
    },
    {
      "cell_type": "code",
      "execution_count": 31,
      "metadata": {
        "id": "sXGPD7HfVgRs"
      },
      "outputs": [],
      "source": [
        "APPROXIMATION = 30\n",
        "approximated = [round_by(i,APPROXIMATION) for i in data]\n",
        "values, distribution = np.unique(approximated, return_counts = True)\n",
        "value_distribution = dict(zip(values, distribution))"
      ]
    },
    {
      "cell_type": "markdown",
      "metadata": {
        "id": "b5yoVR8wegvD"
      },
      "source": [
        "# Calibration"
      ]
    },
    {
      "cell_type": "code",
      "execution_count": 32,
      "metadata": {
        "id": "NssyVAslhqxU"
      },
      "outputs": [],
      "source": [
        "data_origin = data.copy()"
      ]
    },
    {
      "cell_type": "code",
      "execution_count": 33,
      "metadata": {
        "colab": {
          "base_uri": "https://localhost:8080/",
          "height": 35
        },
        "id": "HztwgTRdei-j",
        "outputId": "ceb6fd9c-0f20-4a83-d49c-11c297b57c39"
      },
      "outputs": [
        {
          "data": {
            "text/plain": [
              "'Мама мыла раму '"
            ]
          },
          "execution_count": 33,
          "metadata": {},
          "output_type": "execute_result"
        }
      ],
      "source": [
        "file_name='/content/drive/MyDrive/ADT/signal analysis/260424200650165.edf'\n",
        "#f = pyedflib.EdfReader(file_name)\n",
        "data = f.readSignal(0)\n",
        "data = [i if i > 0 else 0 for i in data]\n",
        "data = data[1400:]# beginning is just nothing\n",
        "CALIBRATION_CODE = '-- .- -- .-  -- -.-- .-.. .-  .-. .- -- ..-'.replace('.', '*')\n",
        "CALIBRATION_TRANSLATION = translate_from_morse(CALIBRATION_CODE)\n",
        "CALIBRATION_TRANSLATION"
      ]
    },
    {
      "cell_type": "code",
      "execution_count": 34,
      "metadata": {
        "colab": {
          "base_uri": "https://localhost:8080/"
        },
        "id": "-V9Ngf6JF4PR",
        "outputId": "cd73b59b-4664-4315-95d9-a0c46818910f"
      },
      "outputs": [
        {
          "data": {
            "text/plain": [
              "(1316, 263)"
            ]
          },
          "execution_count": 34,
          "metadata": {},
          "output_type": "execute_result"
        }
      ],
      "source": [
        "EPOCH_TIME = len(data) // len(CALIBRATION_CODE)\n",
        "TIMING_ERROR = EPOCH_TIME//5\n",
        "EPOCH_TIME,TIMING_ERROR"
      ]
    },
    {
      "cell_type": "markdown",
      "metadata": {
        "id": "JXzKGqREj3Wh"
      },
      "source": [
        "## Filtering data\n"
      ]
    },
    {
      "cell_type": "code",
      "execution_count": 35,
      "metadata": {},
      "outputs": [],
      "source": [
        "import scipy.signal as signal"
      ]
    },
    {
      "cell_type": "markdown",
      "metadata": {},
      "source": [
        "### Removing noise"
      ]
    },
    {
      "cell_type": "code",
      "execution_count": 36,
      "metadata": {},
      "outputs": [],
      "source": [
        "#noise is the most frequent signal, so subtract mean from data\n",
        "mean = np.mean(data)\n",
        "data = [(i if (i - mean > 0) else 0) for i in data]"
      ]
    },
    {
      "cell_type": "markdown",
      "metadata": {},
      "source": [
        "### Geting exact value from peaks"
      ]
    },
    {
      "cell_type": "code",
      "execution_count": 37,
      "metadata": {},
      "outputs": [
        {
          "data": {
            "image/png": "[encoded data removed]",
            "text/plain": [
              "<Figure size 640x480 with 1 Axes>"
            ]
          },
          "metadata": {},
          "output_type": "display_data"
        }
      ],
      "source": [
        "peaks, _ = find_peaks(data)\n",
        "plt.scatter(peaks, [data[peak] for peak in peaks],c='r', marker='x')\n",
        "plt.plot(range(len(data)), data)\n",
        "plt.show()"
      ]
    },
    {
      "cell_type": "code",
      "execution_count": 38,
      "metadata": {},
      "outputs": [
        {
          "data": {
            "image/png": "[encoded data removed]",
            "text/plain": [
              "<Figure size 640x480 with 1 Axes>"
            ]
          },
          "metadata": {},
          "output_type": "display_data"
        }
      ],
      "source": [
        "PEAK_MAX_WIDTH = 300\n",
        "#group peaks by width value and then get mean to get their single value. then, place this value in the middle of initial peak\n",
        "peaks, _ = find_peaks(data)\n",
        "\n",
        "#x and y\n",
        "peak_single_values: list[tuple[int, int]] = []\n",
        "\n",
        "peak_grouped = []\n",
        "first_time_of_peak = peaks[0]\n",
        "for peak in peaks[1:]:\n",
        "    peak_grouped.append(peak)\n",
        "    if peak - first_time_of_peak > PEAK_MAX_WIDTH:\n",
        "        peak_middle = len(peak_grouped) // 2\n",
        "        peak_mean = np.max([data[i] for i in peak_grouped])\n",
        "        peak_single_values.append((first_time_of_peak + peak_middle, peak_mean))\n",
        "        peak_grouped.clear()\n",
        "        first_time_of_peak = peak\n",
        "\n",
        "plt.plot(range(len(data)), data)\n",
        "plt.scatter([i[0] for i in peak_single_values], [i[1] for i in peak_single_values],c='r',marker='x')\n",
        "plt.show()"
      ]
    },
    {
      "cell_type": "markdown",
      "metadata": {
        "id": "uYcqO3QZgl_w"
      },
      "source": [
        "## Getting exact start time"
      ]
    },
    {
      "cell_type": "code",
      "execution_count": 39,
      "metadata": {
        "id": "9g0N8ofBHCJj"
      },
      "outputs": [],
      "source": [
        "epochs = [data[max(i - TIMING_ERROR,0): min(len(data), i + EPOCH_TIME + TIMING_ERROR)]# min and max not to exсeed list boundaries\n",
        "          for i in range(0,len(data), EPOCH_TIME)]#extend epochs at both ends to accept data that user entered at wrong timing"
      ]
    },
    {
      "cell_type": "markdown",
      "metadata": {
        "id": "DggvncrBmUmG"
      },
      "source": [
        "## Classifying"
      ]
    },
    {
      "cell_type": "code",
      "execution_count": 40,
      "metadata": {
        "id": "abRz2NolZckG"
      },
      "outputs": [
        {
          "data": {
            "text/plain": [
              "[(0.0, 2),\n",
              " (0.0, 2),\n",
              " (0.0, 0),\n",
              " (0.0, 1),\n",
              " (0.0, 2),\n",
              " (0.0, 0),\n",
              " (0.0, 2),\n",
              " (0.0, 2),\n",
              " (0.0, 0),\n",
              " (0.0, 1),\n",
              " (0.0, 2),\n",
              " (0.0, 0),\n",
              " (0.0, 0),\n",
              " (0.0, 2),\n",
              " (0.0, 2),\n",
              " (0.0, 0),\n",
              " (0.0, 2),\n",
              " (0.0, 1),\n",
              " (0.0, 2),\n",
              " (0.0, 2),\n",
              " (0.0, 0),\n",
              " (0.0, 1),\n",
              " (0.0, 2),\n",
              " (0.0, 1),\n",
              " (0.0, 1),\n",
              " (0.0, 0),\n",
              " (0.0, 1),\n",
              " (0.0, 2),\n",
              " (0.0, 0),\n",
              " (0.0, 0),\n",
              " (0.0, 1),\n",
              " (0.0, 2),\n",
              " (0.0, 1),\n",
              " (0.0, 0),\n",
              " (0.0, 1),\n",
              " (0.0, 2),\n",
              " (0.0, 0),\n",
              " (0.0, 2),\n",
              " (0.0, 2),\n",
              " (0.0, 0),\n",
              " (0.0, 1),\n",
              " (0.0, 1),\n",
              " (0.0, 2)]"
            ]
          },
          "execution_count": 40,
          "metadata": {},
          "output_type": "execute_result"
        }
      ],
      "source": [
        "epoch_values = list(map(np.median, epochs))\n",
        "if len(epoch_values) > len(CALIBRATION_CODE):\n",
        "  epoch_values.pop(-1)# TODO: do smth if there are more epochs than symbols\n",
        "epoch_to_signal_type = list(zip(epoch_values,\n",
        "                        [symbol_to_signal_type[i] for i in CALIBRATION_CODE]))\n",
        "epoch_to_signal_type"
      ]
    },
    {
      "cell_type": "markdown",
      "metadata": {
        "id": "3n2YH45GkjSP"
      },
      "source": [
        "# Classifying epochs"
      ]
    },
    {
      "cell_type": "code",
      "execution_count": 41,
      "metadata": {
        "id": "AAh5s8TeO0la"
      },
      "outputs": [
        {
          "data": {
            "text/plain": [
              "\"Get morse code from data based on threshold to say whether it's a dot(low threshold), or dash(high)\\n      --------\\n      param high_threshold: a value, epoch will be considered as dash\\n      param low_threshold: a value, based on which an epoch will be considered as dash\\n      potom napishy koroche\""
            ]
          },
          "execution_count": 41,
          "metadata": {},
          "output_type": "execute_result"
        }
      ],
      "source": [
        "'''Get morse code from data based on threshold to say whether it's a dot(low threshold), or dash(high)\n",
        "      --------\n",
        "      param high_threshold: a value, epoch will be considered as dash\n",
        "      param low_threshold: a value, based on which an epoch will be considered as dash\n",
        "      potom napishy koroche'''"
      ]
    },
    {
      "cell_type": "code",
      "execution_count": 42,
      "metadata": {
        "id": "BLH3vo98O0lb"
      },
      "outputs": [],
      "source": [
        "def data_to_morse(data: list[float],\n",
        "                  high_threshold: float,\n",
        "                  low_threshold: float,\n",
        "                  epoch_size: int):\n",
        "  res: str = \"\"\n",
        "  epochs = _split_list(data, epoch_size)\n",
        "  for epoch in epochs:\n",
        "    median = np.median(epoch)\n",
        "    if median > high_threshold:\n",
        "      res += '-'\n",
        "    elif median > low_threshold:\n",
        "      res += '*'\n",
        "    else:\n",
        "      res += ' '\n",
        "  return res"
      ]
    },
    {
      "cell_type": "code",
      "execution_count": 43,
      "metadata": {
        "id": "4hmUODp8O0lc"
      },
      "outputs": [
        {
          "ename": "NameError",
          "evalue": "name 'HIGH_THRESHOLD' is not defined",
          "output_type": "error",
          "traceback": [
            "\u001b[0;31m---------------------------------------------------------------------------\u001b[0m",
            "\u001b[0;31mNameError\u001b[0m                                 Traceback (most recent call last)",
            "Cell \u001b[0;32mIn[43], line 3\u001b[0m\n\u001b[1;32m      1\u001b[0m EPOCH_SIZE \u001b[38;5;241m=\u001b[39m \u001b[38;5;241m50\u001b[39m\n\u001b[1;32m      2\u001b[0m morse_code \u001b[38;5;241m=\u001b[39m data_to_morse(data,\n\u001b[0;32m----> 3\u001b[0m               \u001b[43mHIGH_THRESHOLD\u001b[49m,\n\u001b[1;32m      4\u001b[0m               LOW_THRESHOLD,\n\u001b[1;32m      5\u001b[0m               EPOCH_SIZE\n\u001b[1;32m      6\u001b[0m               )\n\u001b[1;32m      8\u001b[0m translate_from_morse(morse_code, handle_unknown \u001b[38;5;241m=\u001b[39m \u001b[38;5;124m\"\u001b[39m\u001b[38;5;124mwarn\u001b[39m\u001b[38;5;124m\"\u001b[39m)\n",
            "\u001b[0;31mNameError\u001b[0m: name 'HIGH_THRESHOLD' is not defined"
          ]
        }
      ],
      "source": [
        "EPOCH_SIZE = 50\n",
        "morse_code = data_to_morse(data,\n",
        "              HIGH_THRESHOLD,\n",
        "              LOW_THRESHOLD,\n",
        "              EPOCH_SIZE\n",
        "              )\n",
        "\n",
        "translate_from_morse(morse_code, handle_unknown = \"warn\")"
      ]
    }
  ],
  "metadata": {
    "colab": {
      "collapsed_sections": [
        "0GJZtKt8sW96",
        "-0Qp0aDP0e6R",
        "1Fg1EytbaoTg",
        "Yym33FuAZ4fD"
      ],
      "provenance": []
    },
    "kernelspec": {
      "display_name": "Python 3",
      "name": "python3"
    },
    "language_info": {
      "codemirror_mode": {
        "name": "ipython",
        "version": 3
      },
      "file_extension": ".py",
      "mimetype": "text/x-python",
      "name": "python",
      "nbconvert_exporter": "python",
      "pygments_lexer": "ipython3",
      "version": "3.11.8"
    }
  },
  "nbformat": 4,
  "nbformat_minor": 0
}
