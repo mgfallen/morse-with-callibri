{
  "cells": [
    {
      "cell_type": "markdown",
      "metadata": {
        "id": "0GJZtKt8sW96"
      },
      "source": [
        "# Utils"
      ]
    },
    {
      "cell_type": "code",
      "execution_count": 59,
      "metadata": {
        "id": "nXJS4goC9LIQ"
      },
      "outputs": [],
      "source": [
        "import numpy as np"
      ]
    },
    {
      "cell_type": "code",
      "execution_count": 60,
      "metadata": {
        "id": "17MAi4qoLz6a"
      },
      "outputs": [],
      "source": [
        "from typing import Literal, Iterable"
      ]
    },
    {
      "cell_type": "code",
      "execution_count": 61,
      "metadata": {
        "id": "MhX8RZ5sJYTE"
      },
      "outputs": [],
      "source": [
        "def _split_list(data: Iterable,\n",
        "                part_size: int,\n",
        "                handle_leftover: Literal[\"cut\", \"join\", \"add\"] = \"cut\"\n",
        "                ) -> list[list]:\n",
        "    \"\"\"Split list into sublists of equal size.\n",
        "\n",
        "        If length of initial list isn't divisible by given\n",
        "        sublist size, the remaining part won't be included\n",
        "        in result by default. However, changing\n",
        "        'handle_leftover' parameter will modify this.\n",
        "        Parameters\n",
        "        ----------\n",
        "        data : Iterable\n",
        "        part_size : int\n",
        "            Size of sublists data will be splitted in\n",
        "        handle_leftover: Literal[\"cut\", \"join\", \"add\"]\n",
        "            Set remaining part handling mode. (default is \"cut\")\n",
        "            - 'cut': don't include remaining part\n",
        "            - 'join': join remaining part to the last full sublist\n",
        "            - 'add': add the remaining part to the result as last sublist\n",
        "    \"\"\"\n",
        "    sublists = list(zip(*(iter(data),) * part_size))\n",
        "    \n",
        "    if remaining_part_size := -(len(data) % part_size):\n",
        "        remaining_part = data[remaining_part_size:]\n",
        "        \n",
        "        if handle_leftover == \"join\":\n",
        "            sublists[-1] += (remaining_part)\n",
        "        elif handle_leftover == \"add\":\n",
        "            sublists.append(remaining_part)\n",
        "    return sublists"
      ]
    },
    {
      "cell_type": "code",
      "execution_count": 62,
      "metadata": {
        "id": "G7DV5WvcUORC"
      },
      "outputs": [],
      "source": [
        "def filter_values(lst, exclude = (), less_than: float = np.inf, greater_than: float = -np.inf):\n",
        "  \"\"\"Drop values in numeric iterable that don't meet the condition\n",
        "\n",
        "     Parameters\n",
        "     ----------\n",
        "     list: list\n",
        "     exclude: Iterable, optional\n",
        "        Exact values that will be dropped (default is ())\n",
        "      less_than: float, optional\n",
        "        Keep values below this value (default is np.inf)\n",
        "      greater_than: float, optional\n",
        "        Keep values above this value (default is -np.inf)\"\"\"\n",
        "\n",
        "  res = []\n",
        "  for i in lst:\n",
        "    if i not in exclude and i < less_than and i > greater_than:\n",
        "      res.append(i)\n",
        "  return res"
      ]
    },
    {
      "cell_type": "markdown",
      "metadata": {
        "id": "-0Qp0aDP0e6R"
      },
      "source": [
        "# Translating\n"
      ]
    },
    {
      "cell_type": "code",
      "execution_count": 63,
      "metadata": {
        "id": "79cD-GNts0_a"
      },
      "outputs": [],
      "source": [
        "LANGUAGE = 'ru'#en/ru"
      ]
    },
    {
      "cell_type": "code",
      "execution_count": 64,
      "metadata": {
        "id": "CCuci3Rv48AV"
      },
      "outputs": [],
      "source": [
        "to_russian = {'*-': 'А',\n",
        " '-***': 'Б',\n",
        " '*--': 'В',\n",
        " '--*': 'Г',\n",
        " '-**': 'Д',\n",
        " '*': 'Е',\n",
        " '***-': 'Ж',\n",
        " '--**': 'З',\n",
        " '**': 'И',\n",
        " '*---': 'Й',\n",
        " '-*-': 'К',\n",
        " '*-**': 'Л',\n",
        " '--': 'М',\n",
        " '-*': 'Н',\n",
        " '---': 'О',\n",
        " '*--*': 'П',\n",
        " '*-*': 'Р',\n",
        " '***': 'С',\n",
        " '-': 'Т',\n",
        " '**-': 'У',\n",
        " '**-*': 'Ф',\n",
        " '****': 'Х',\n",
        " '-*-*': 'Ц',\n",
        " '---*': 'Ч',\n",
        " '----': 'Ш',\n",
        " '--*-': 'Щ',\n",
        " '--*--': 'Ъ',\n",
        " '-*--': 'Ы',\n",
        " '-**-': 'Ь',\n",
        " '**-**': 'Э',\n",
        " '**--': 'Ю',\n",
        " '*-*-': 'Я'}"
      ]
    },
    {
      "cell_type": "code",
      "execution_count": 65,
      "metadata": {
        "id": "vO03V6HuyopQ"
      },
      "outputs": [],
      "source": [
        "to_english = {'*-': 'A',\n",
        " '-***': 'B',\n",
        " '-*-*': 'C',\n",
        " '-**': 'D',\n",
        " '*': 'E',\n",
        " '**-*': 'F',\n",
        " '--*': 'G',\n",
        "'****': 'H',\n",
        " '**': 'I',\n",
        " '*---': 'J',\n",
        " '-*-': 'K',\n",
        " '*-**': 'L',\n",
        " '--': 'M',\n",
        " '-*': 'N',\n",
        " '---': 'O',\n",
        " '*--*': 'P',\n",
        " '--*-': 'Q',\n",
        " '*-*': 'R',\n",
        " '***': 'S',\n",
        " '-': 'T',\n",
        " '**-': 'U',\n",
        " '***-': 'V',\n",
        " '*--': 'W',\n",
        " '-**-': 'X',\n",
        " '-*--': 'Y',\n",
        " '--**': 'Z'}"
      ]
    },
    {
      "cell_type": "code",
      "execution_count": 66,
      "metadata": {
        "id": "hVTX18kL4jVp"
      },
      "outputs": [],
      "source": [
        "if LANGUAGE == 'en':\n",
        "  from_morse = to_english\n",
        "elif LANGUAGE == 'ru':\n",
        "  from_morse = to_russian"
      ]
    },
    {
      "cell_type": "code",
      "execution_count": 67,
      "metadata": {
        "id": "Vhhfgq-lE_cc"
      },
      "outputs": [],
      "source": [
        "def translate_from_morse(code: str,\n",
        "                         handle_unknown: Literal[\"warn\", \"error\"] = \"warn\",\n",
        "                         word_separator: str = ' '*2,\n",
        "                         letter_separator: str = ' '):\n",
        "  morse_words: list[str] = code.split(word_separator)\n",
        "  morse_words: list[list[str]] = [word.split(letter_separator)  for word in morse_words]\n",
        "  result = ''\n",
        "  for morse_word in morse_words:\n",
        "    for morse_letter in morse_word:\n",
        "      if morse_letter in from_morse:\n",
        "        result += from_morse[morse_letter]\n",
        "      else:\n",
        "        if handle_unknown == \"warn\":\n",
        "          result += '?'\n",
        "        else:\n",
        "          raise ValueError(f\"Morse letter not recognised: {morse_letter}\")\n",
        "    result += ' '\n",
        "  return result.capitalize()"
      ]
    },
    {
      "cell_type": "markdown",
      "metadata": {
        "id": "HCEISN450mI4"
      },
      "source": [
        "# EMG analysis"
      ]
    },
    {
      "cell_type": "markdown",
      "metadata": {
        "id": "b3w7nBJ0Zvik"
      },
      "source": [
        "## Downloading data"
      ]
    },
    {
      "cell_type": "code",
      "execution_count": 68,
      "metadata": {
        "colab": {
          "base_uri": "https://localhost:8080/"
        },
        "id": "SNyobcxHEMhI",
        "outputId": "0babed65-f039-4ba6-acd2-d440bdba1e90"
      },
      "outputs": [
        {
          "name": "stdout",
          "output_type": "stream",
          "text": [
            "Requirement already satisfied: pyedflib in /opt/homebrew/lib/python3.11/site-packages (0.1.37)\n",
            "Requirement already satisfied: numpy>=1.9.1 in /opt/homebrew/lib/python3.11/site-packages (from pyedflib) (1.26.4)\n",
            "Note: you may need to restart the kernel to use updated packages.\n"
          ]
        }
      ],
      "source": [
        "%pip install pyedflib"
      ]
    },
    {
      "cell_type": "code",
      "execution_count": 69,
      "metadata": {
        "id": "TWOl7zn41AD6"
      },
      "outputs": [],
      "source": [
        "import pyedflib\n",
        "from scipy.signal import find_peaks\n",
        "import numpy as np\n",
        "import matplotlib.pyplot as plt"
      ]
    },
    {
      "cell_type": "code",
      "execution_count": 70,
      "metadata": {
        "id": "Tu5bKdkp7spx"
      },
      "outputs": [],
      "source": [
        "file_name='test_data/мама мыла раму/260424200650165.edf'\n",
        "f = pyedflib.EdfReader(file_name)"
      ]
    },
    {
      "cell_type": "code",
      "execution_count": 71,
      "metadata": {
        "id": "WWJL6-EJ8VGb"
      },
      "outputs": [
        {
          "name": "stdout",
          "output_type": "stream",
          "text": [
            "read -1, less than 58000 requested!!!\n"
          ]
        }
      ],
      "source": [
        "data = f.readSignal(0)\n",
        "data_origin = data.copy()"
      ]
    },
    {
      "cell_type": "code",
      "execution_count": 72,
      "metadata": {
        "colab": {
          "base_uri": "https://localhost:8080/",
          "height": 448
        },
        "id": "sz5o4p4y6p9L",
        "outputId": "5587939b-2514-4311-dbe9-bb88c81eb8b8"
      },
      "outputs": [
        {
          "data": {
            "text/plain": [
              "[<matplotlib.lines.Line2D at 0x282c93410>]"
            ]
          },
          "execution_count": 72,
          "metadata": {},
          "output_type": "execute_result"
        },
        {
          "data": {
            "image/png": "[encoded data removed]",
            "text/plain": [
              "<Figure size 640x480 with 1 Axes>"
            ]
          },
          "metadata": {},
          "output_type": "display_data"
        }
      ],
      "source": [
        "plt.plot(range(len(data)), data)"
      ]
    },
    {
      "cell_type": "code",
      "execution_count": 73,
      "metadata": {
        "id": "_rDEHHxy9x5T"
      },
      "outputs": [],
      "source": [
        "data = [i if i > 0 else 0 for i in data]"
      ]
    },
    {
      "cell_type": "code",
      "execution_count": 74,
      "metadata": {
        "id": "j-T0g6QGy7Wl"
      },
      "outputs": [],
      "source": [
        "data_origin = data.copy()"
      ]
    },
    {
      "cell_type": "code",
      "execution_count": 75,
      "metadata": {
        "id": "C7m5Kq9GjVFy"
      },
      "outputs": [],
      "source": [
        "NOISE_BELOW = 10"
      ]
    },
    {
      "cell_type": "code",
      "execution_count": 76,
      "metadata": {
        "id": "rCjgjf_CaGT2"
      },
      "outputs": [],
      "source": [
        "symbol_to_signal_type = {' ': 0, '*': 1, '-': 2}#none, low, high"
      ]
    },
    {
      "cell_type": "markdown",
      "metadata": {
        "id": "1Fg1EytbaoTg"
      },
      "source": [
        "## Approximation"
      ]
    },
    {
      "cell_type": "code",
      "execution_count": 77,
      "metadata": {
        "id": "9d8fdmCKDP3L"
      },
      "outputs": [],
      "source": [
        "def round_by(n,by):\n",
        "  return n // by * by"
      ]
    },
    {
      "cell_type": "code",
      "execution_count": 78,
      "metadata": {
        "id": "sXGPD7HfVgRs"
      },
      "outputs": [],
      "source": [
        "APPROXIMATION = 30\n",
        "approximated = [round_by(i,APPROXIMATION) for i in data]\n",
        "values, distribution = np.unique(approximated, return_counts = True)\n",
        "value_distribution = dict(zip(values, distribution))"
      ]
    },
    {
      "cell_type": "markdown",
      "metadata": {
        "id": "b5yoVR8wegvD"
      },
      "source": [
        "# Calibration"
      ]
    },
    {
      "cell_type": "code",
      "execution_count": 79,
      "metadata": {
        "id": "NssyVAslhqxU"
      },
      "outputs": [],
      "source": [
        "data_origin = data.copy()"
      ]
    },
    {
      "cell_type": "code",
      "execution_count": 92,
      "metadata": {
        "colab": {
          "base_uri": "https://localhost:8080/",
          "height": 35
        },
        "id": "HztwgTRdei-j",
        "outputId": "ceb6fd9c-0f20-4a83-d49c-11c297b57c39"
      },
      "outputs": [
        {
          "name": "stdout",
          "output_type": "stream",
          "text": [
            "read -1, less than 58000 requested!!!\n"
          ]
        },
        {
          "data": {
            "text/plain": [
              "'Мама мыла раму '"
            ]
          },
          "execution_count": 92,
          "metadata": {},
          "output_type": "execute_result"
        }
      ],
      "source": [
        "file_name='/content/drive/MyDrive/ADT/signal analysis/260424200650165.edf'\n",
        "#f = pyedflib.EdfReader(file_name)\n",
        "data = f.readSignal(0)\n",
        "data = data[1400:]# beginning is just nothing\n",
        "CALIBRATION_CODE = '-- .- -- .-  -- -.-- .-.. .-  .-. .- -- ..-'.replace('.', '*')\n",
        "CALIBRATION_TRANSLATION = translate_from_morse(CALIBRATION_CODE)\n",
        "CALIBRATION_TRANSLATION"
      ]
    },
    {
      "cell_type": "markdown",
      "metadata": {
        "id": "JXzKGqREj3Wh"
      },
      "source": [
        "## Filtering data\n"
      ]
    },
    {
      "cell_type": "code",
      "execution_count": 43,
      "metadata": {},
      "outputs": [],
      "source": [
        "def window_rms(a, window_size):\n",
        "  a2 = np.power(a,2)\n",
        "  window = np.ones(window_size)/float(window_size)\n",
        "  return np.sqrt(np.convolve(a2, window))"
      ]
    },
    {
      "cell_type": "code",
      "execution_count": 94,
      "metadata": {},
      "outputs": [],
      "source": [
        "data = window_rms(data_origin, 30)"
      ]
    },
    {
      "cell_type": "code",
      "execution_count": 95,
      "metadata": {},
      "outputs": [
        {
          "data": {
            "text/plain": [
              "[<matplotlib.lines.Line2D at 0x14784e050>]"
            ]
          },
          "execution_count": 95,
          "metadata": {},
          "output_type": "execute_result"
        },
        {
          "data": {
            "image/png": "[encoded data removed]",
            "text/plain": [
              "<Figure size 640x480 with 1 Axes>"
            ]
          },
          "metadata": {},
          "output_type": "display_data"
        }
      ],
      "source": [
        "plt.plot(range(len(data)),data)"
      ]
    },
    {
      "cell_type": "markdown",
      "metadata": {},
      "source": [
        "### Removing noise"
      ]
    },
    {
      "cell_type": "code",
      "execution_count": 83,
      "metadata": {},
      "outputs": [],
      "source": [
        "#noise is the most frequent signal, so subtract mean from data\n",
        "mean = np.mean(data)\n",
        "data = [(i if (i - mean > 0) else 0) for i in data]"
      ]
    },
    {
      "cell_type": "markdown",
      "metadata": {},
      "source": [
        "### Geting exact value from peaks"
      ]
    },
    {
      "cell_type": "code",
      "execution_count": 84,
      "metadata": {},
      "outputs": [
        {
          "data": {
            "image/png": "[encoded data removed]",
            "text/plain": [
              "<Figure size 640x480 with 1 Axes>"
            ]
          },
          "metadata": {},
          "output_type": "display_data"
        }
      ],
      "source": [
        "peaks, _ = find_peaks(data)\n",
        "plt.scatter(peaks, [data[peak] for peak in peaks],c='r', marker='x')\n",
        "plt.plot(range(len(data)), data)\n",
        "plt.show()"
      ]
    },
    {
      "cell_type": "code",
      "execution_count": 85,
      "metadata": {},
      "outputs": [
        {
          "ename": "IndexError",
          "evalue": "index 0 is out of bounds for axis 0 with size 0",
          "output_type": "error",
          "traceback": [
            "\u001b[0;31m---------------------------------------------------------------------------\u001b[0m",
            "\u001b[0;31mIndexError\u001b[0m                                Traceback (most recent call last)",
            "Cell \u001b[0;32mIn[85], line 9\u001b[0m\n\u001b[1;32m      6\u001b[0m peak_single_values: \u001b[38;5;28mlist\u001b[39m[\u001b[38;5;28mtuple\u001b[39m[\u001b[38;5;28mint\u001b[39m, \u001b[38;5;28mint\u001b[39m]] \u001b[38;5;241m=\u001b[39m []\n\u001b[1;32m      8\u001b[0m peak_grouped \u001b[38;5;241m=\u001b[39m []\n\u001b[0;32m----> 9\u001b[0m first_time_of_peak \u001b[38;5;241m=\u001b[39m \u001b[43mpeaks\u001b[49m\u001b[43m[\u001b[49m\u001b[38;5;241;43m0\u001b[39;49m\u001b[43m]\u001b[49m\n\u001b[1;32m     10\u001b[0m \u001b[38;5;28;01mfor\u001b[39;00m peak \u001b[38;5;129;01min\u001b[39;00m peaks[\u001b[38;5;241m1\u001b[39m:]:\n\u001b[1;32m     11\u001b[0m     peak_grouped\u001b[38;5;241m.\u001b[39mappend(peak)\n",
            "\u001b[0;31mIndexError\u001b[0m: index 0 is out of bounds for axis 0 with size 0"
          ]
        }
      ],
      "source": [
        "PEAK_MAX_WIDTH = 300\n",
        "#group peaks by width value and then get mean to get their single value. then, place this value in the middle of initial peak\n",
        "peaks, _ = find_peaks(data)\n",
        "\n",
        "#x and y\n",
        "peak_single_values: list[tuple[int, int]] = []\n",
        "\n",
        "peak_grouped = []\n",
        "first_time_of_peak = peaks[0]\n",
        "for peak in peaks[1:]:\n",
        "    peak_grouped.append(peak)\n",
        "    if peak - first_time_of_peak > PEAK_MAX_WIDTH:\n",
        "        peak_middle = len(peak_grouped) // 2\n",
        "        peak_mean = np.max([data[i] for i in peak_grouped])\n",
        "        peak_single_values.append((first_time_of_peak + peak_middle, peak_mean))\n",
        "        peak_grouped.clear()\n",
        "        first_time_of_peak = peak\n",
        "\n",
        "plt.plot(range(len(data)), data)\n",
        "plt.scatter([i[0] for i in peak_single_values], [i[1] for i in peak_single_values],c='r',marker='x')\n",
        "plt.show()"
      ]
    },
    {
      "cell_type": "markdown",
      "metadata": {
        "id": "uYcqO3QZgl_w"
      },
      "source": [
        "## Getting exact start time"
      ]
    },
    {
      "cell_type": "code",
      "execution_count": 88,
      "metadata": {
        "id": "9g0N8ofBHCJj"
      },
      "outputs": [],
      "source": [
        "epochs = [data[max(i - TIMING_ERROR,0): min(len(data), i + EPOCH_TIME + TIMING_ERROR)]# min and max not to exсeed list boundaries\n",
        "          for i in range(0,len(data), EPOCH_TIME)]#extend epochs at both ends to accept data that user entered at wrong timing"
      ]
    },
    {
      "cell_type": "markdown",
      "metadata": {
        "id": "DggvncrBmUmG"
      },
      "source": [
        "## Classifying"
      ]
    },
    {
      "cell_type": "code",
      "execution_count": 89,
      "metadata": {
        "id": "abRz2NolZckG"
      },
      "outputs": [
        {
          "data": {
            "text/plain": [
              "[(0.0, 2),\n",
              " (0.0, 2),\n",
              " (0.0, 0),\n",
              " (0.0, 1),\n",
              " (0.0, 2),\n",
              " (0.0, 0),\n",
              " (0.0, 2),\n",
              " (0.0, 2),\n",
              " (0.0, 0),\n",
              " (0.0, 1),\n",
              " (0.0, 2),\n",
              " (0.0, 0),\n",
              " (0.0, 0),\n",
              " (0.0, 2),\n",
              " (0.0, 2),\n",
              " (0.0, 0),\n",
              " (0.0, 2),\n",
              " (0.0, 1),\n",
              " (0.0, 2),\n",
              " (0.0, 2),\n",
              " (0.0, 0),\n",
              " (0.0, 1),\n",
              " (0.0, 2),\n",
              " (0.0, 1),\n",
              " (0.0, 1),\n",
              " (0.0, 0),\n",
              " (0.0, 1),\n",
              " (0.0, 2),\n",
              " (0.0, 0),\n",
              " (0.0, 0),\n",
              " (0.0, 1),\n",
              " (0.0, 2),\n",
              " (0.0, 1),\n",
              " (0.0, 0),\n",
              " (0.0, 1),\n",
              " (0.0, 2),\n",
              " (0.0, 0),\n",
              " (0.0, 2),\n",
              " (0.0, 2),\n",
              " (0.0, 0),\n",
              " (0.0, 1),\n",
              " (0.0, 1),\n",
              " (0.0, 2)]"
            ]
          },
          "execution_count": 89,
          "metadata": {},
          "output_type": "execute_result"
        }
      ],
      "source": [
        "epoch_values = list(map(np.median, epochs))\n",
        "if len(epoch_values) > len(CALIBRATION_CODE):\n",
        "  epoch_values.pop(-1)# TODO: do smth if there are more epochs than symbols\n",
        "epoch_to_signal_type = list(zip(epoch_values,\n",
        "                        [symbol_to_signal_type[i] for i in CALIBRATION_CODE]))\n",
        "epoch_to_signal_type"
      ]
    },
    {
      "cell_type": "markdown",
      "metadata": {
        "id": "3n2YH45GkjSP"
      },
      "source": [
        "# Classifying epochs"
      ]
    },
    {
      "cell_type": "code",
      "execution_count": null,
      "metadata": {
        "id": "AAh5s8TeO0la"
      },
      "outputs": [
        {
          "data": {
            "text/plain": [
              "\"Get morse code from data based on threshold to say whether it's a dot(low threshold), or dash(high)\\n      --------\\n      param high_threshold: a value, epoch will be considered as dash\\n      param low_threshold: a value, based on which an epoch will be considered as dash\\n      potom napishy koroche\""
            ]
          },
          "execution_count": 30,
          "metadata": {},
          "output_type": "execute_result"
        }
      ],
      "source": [
        "'''Get morse code from data based on threshold to say whether it's a dot(low threshold), or dash(high)\n",
        "      --------\n",
        "      param high_threshold: a value, epoch will be considered as dash\n",
        "      param low_threshold: a value, based on which an epoch will be considered as dash\n",
        "      potom napishy koroche'''"
      ]
    },
    {
      "cell_type": "code",
      "execution_count": 90,
      "metadata": {
        "id": "BLH3vo98O0lb"
      },
      "outputs": [],
      "source": [
        "def data_to_morse(data: list[float],\n",
        "                  high_threshold: float,\n",
        "                  low_threshold: float,\n",
        "                  epoch_size: int):\n",
        "  res: str = \"\"\n",
        "  epochs = _split_list(data, epoch_size)\n",
        "  for epoch in epochs:\n",
        "    median = np.median(epoch)\n",
        "    if median > high_threshold:\n",
        "      res += '-'\n",
        "    elif median > low_threshold:\n",
        "      res += '*'\n",
        "    else:\n",
        "      res += ' '\n",
        "  return res"
      ]
    },
    {
      "cell_type": "code",
      "execution_count": null,
      "metadata": {
        "id": "4hmUODp8O0lc"
      },
      "outputs": [],
      "source": [
        "# EPOCH_SIZE = 50\n",
        "# morse_code = data_to_morse(data,\n",
        "#               HIGH_THRESHOLD,\n",
        "#               LOW_THRESHOLD,\n",
        "#               EPOCH_SIZE\n",
        "#               )\n",
        "\n",
        "# translate_from_morse(morse_code, handle_unknown = \"warn\")"
      ]
    },
    {
      "cell_type": "code",
      "execution_count": null,
      "metadata": {},
      "outputs": [
        {
          "data": {
            "text/plain": [
              "'preparing_for_no_blinking'"
            ]
          },
          "execution_count": 33,
          "metadata": {},
          "output_type": "execute_result"
        }
      ],
      "source": [
        "'PREPARING_FOR_NO_BLINKING'.lower()"
      ]
    }
  ],
  "metadata": {
    "colab": {
      "collapsed_sections": [
        "0GJZtKt8sW96",
        "-0Qp0aDP0e6R",
        "1Fg1EytbaoTg",
        "Yym33FuAZ4fD"
      ],
      "provenance": []
    },
    "kernelspec": {
      "display_name": "Python 3",
      "name": "python3"
    },
    "language_info": {
      "codemirror_mode": {
        "name": "ipython",
        "version": 3
      },
      "file_extension": ".py",
      "mimetype": "text/x-python",
      "name": "python",
      "nbconvert_exporter": "python",
      "pygments_lexer": "ipython3",
      "version": "3.11.8"
    }
  },
  "nbformat": 4,
  "nbformat_minor": 0
}
